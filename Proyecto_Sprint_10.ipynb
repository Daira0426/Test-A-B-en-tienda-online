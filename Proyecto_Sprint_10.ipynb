{
 "cells": [
  {
   "cell_type": "markdown",
   "metadata": {},
   "source": [
    "# Sprint 10 - Proyecto"
   ]
  },
  {
   "cell_type": "markdown",
   "metadata": {},
   "source": [
    "## Descripción del proyecto"
   ]
  },
  {
   "cell_type": "markdown",
   "metadata": {},
   "source": [
    "**Contexto**\n",
    "\n",
    "Eres analista en una gran tienda online. Junto con el departamento de marketing has recopilado una lista de hipótesis que pueden ayudar a aumentar los ingresos.\n",
    "\n",
    "Tienes que priorizar estas hipótesis, lanzar un test A/B y analizar los resultados."
   ]
  },
  {
   "cell_type": "markdown",
   "metadata": {},
   "source": [
    "## Descripción de los datos"
   ]
  },
  {
   "cell_type": "markdown",
   "metadata": {},
   "source": [
    "**Datos utilizados en la primera parte del proyecto**\n",
    "\n",
    "/datasets/hypotheses_us.csv\n",
    "\n",
    "* Hypotheses: breves descripciones de las hipótesis.\n",
    "* Reach: alcance del usuario, en una escala del uno a diez.\n",
    "* Impact: impacto en los usuarios, en una escala del uno al diez.\n",
    "* Confidence: confianza en la hipótesis, en una escala del uno al diez.\n",
    "* Effort: los recursos necesarios para probar una hipótesis, en una escala del uno al diez. Cuanto mayor sea el valor Effort, más recursos requiere la prueba.\n",
    "\n",
    "**Datos utilizados en la segunda parte del proyecto**\n",
    "\n",
    "/datasets/orders_us.csv\n",
    "\n",
    "* transactionId: identificador de pedido.\n",
    "* visitorId: identificador del usuario que realizó el pedido.\n",
    "* date: fecha del pedido.\n",
    "* revenue: ingresos del pedido.\n",
    "* group: el grupo del test A/B al que pertenece el usuario.\n",
    "\n",
    "/datasets/visits_us.csv\n",
    "\n",
    "*date: la fecha.\n",
    "* group: grupo de la prueba A/B.\n",
    "* visits: el número de visitas en la fecha especificada en el grupo de pruebas A/B especificado.\n",
    "\n",
    "Asegúrate de preprocesar los datos. Es posible que haya errores en los datasets originales; por ejemplo, algunos de los visitantes podrían haber entrado tanto en el grupo A como en el grupo B."
   ]
  },
  {
   "cell_type": "markdown",
   "metadata": {},
   "source": [
    "## Inicialización"
   ]
  },
  {
   "cell_type": "code",
   "execution_count": 25,
   "metadata": {},
   "outputs": [],
   "source": [
    "# Cargar todas las librerías\n",
    "import pandas as pd\n",
    "import numpy as np\n",
    "import matplotlib.pyplot as plt\n",
    "from scipy import stats as st\n",
    "from scipy import stats\n",
    "import seaborn as sns"
   ]
  },
  {
   "cell_type": "markdown",
   "metadata": {},
   "source": [
    "## Cargar datos"
   ]
  },
  {
   "cell_type": "code",
   "execution_count": 26,
   "metadata": {},
   "outputs": [],
   "source": [
    "# Cargar los archivos\n",
    "df_hypotheses = pd.read_csv(\"/datasets/hypotheses_us.csv\", sep=';') \n",
    "df_orders = pd.read_csv(\"/datasets/orders_us.csv\")\n",
    "df_visits = pd.read_csv(\"/datasets/visits_us.csv\")"
   ]
  },
  {
   "cell_type": "markdown",
   "metadata": {},
   "source": [
    "## Información General"
   ]
  },
  {
   "cell_type": "code",
   "execution_count": 27,
   "metadata": {},
   "outputs": [
    {
     "name": "stdout",
     "output_type": "stream",
     "text": [
      "<class 'pandas.core.frame.DataFrame'>\n",
      "RangeIndex: 9 entries, 0 to 8\n",
      "Data columns (total 5 columns):\n",
      " #   Column      Non-Null Count  Dtype \n",
      "---  ------      --------------  ----- \n",
      " 0   Hypothesis  9 non-null      object\n",
      " 1   Reach       9 non-null      int64 \n",
      " 2   Impact      9 non-null      int64 \n",
      " 3   Confidence  9 non-null      int64 \n",
      " 4   Effort      9 non-null      int64 \n",
      "dtypes: int64(4), object(1)\n",
      "memory usage: 488.0+ bytes\n",
      "<class 'pandas.core.frame.DataFrame'>\n",
      "RangeIndex: 1197 entries, 0 to 1196\n",
      "Data columns (total 5 columns):\n",
      " #   Column         Non-Null Count  Dtype  \n",
      "---  ------         --------------  -----  \n",
      " 0   transactionId  1197 non-null   int64  \n",
      " 1   visitorId      1197 non-null   int64  \n",
      " 2   date           1197 non-null   object \n",
      " 3   revenue        1197 non-null   float64\n",
      " 4   group          1197 non-null   object \n",
      "dtypes: float64(1), int64(2), object(2)\n",
      "memory usage: 46.9+ KB\n",
      "<class 'pandas.core.frame.DataFrame'>\n",
      "RangeIndex: 62 entries, 0 to 61\n",
      "Data columns (total 3 columns):\n",
      " #   Column  Non-Null Count  Dtype \n",
      "---  ------  --------------  ----- \n",
      " 0   date    62 non-null     object\n",
      " 1   group   62 non-null     object\n",
      " 2   visits  62 non-null     int64 \n",
      "dtypes: int64(1), object(2)\n",
      "memory usage: 1.6+ KB\n"
     ]
    }
   ],
   "source": [
    "# Información general/resumida sobre el DataFrame:\n",
    "df_hypotheses.info()\n",
    "df_orders.info()\n",
    "df_visits.info()"
   ]
  },
  {
   "cell_type": "code",
   "execution_count": 28,
   "metadata": {},
   "outputs": [
    {
     "name": "stdout",
     "output_type": "stream",
     "text": [
      "Información  del Dtaframe: df_hypotheses\n"
     ]
    },
    {
     "data": {
      "text/html": [
       "<div>\n",
       "<style scoped>\n",
       "    .dataframe tbody tr th:only-of-type {\n",
       "        vertical-align: middle;\n",
       "    }\n",
       "\n",
       "    .dataframe tbody tr th {\n",
       "        vertical-align: top;\n",
       "    }\n",
       "\n",
       "    .dataframe thead th {\n",
       "        text-align: right;\n",
       "    }\n",
       "</style>\n",
       "<table border=\"1\" class=\"dataframe\">\n",
       "  <thead>\n",
       "    <tr style=\"text-align: right;\">\n",
       "      <th></th>\n",
       "      <th>Hypothesis</th>\n",
       "      <th>Reach</th>\n",
       "      <th>Impact</th>\n",
       "      <th>Confidence</th>\n",
       "      <th>Effort</th>\n",
       "    </tr>\n",
       "  </thead>\n",
       "  <tbody>\n",
       "    <tr>\n",
       "      <th>0</th>\n",
       "      <td>Add two new channels for attracting traffic. T...</td>\n",
       "      <td>3</td>\n",
       "      <td>10</td>\n",
       "      <td>8</td>\n",
       "      <td>6</td>\n",
       "    </tr>\n",
       "    <tr>\n",
       "      <th>1</th>\n",
       "      <td>Launch your own delivery service. This will sh...</td>\n",
       "      <td>2</td>\n",
       "      <td>5</td>\n",
       "      <td>4</td>\n",
       "      <td>10</td>\n",
       "    </tr>\n",
       "    <tr>\n",
       "      <th>2</th>\n",
       "      <td>Add product recommendation blocks to the store...</td>\n",
       "      <td>8</td>\n",
       "      <td>3</td>\n",
       "      <td>7</td>\n",
       "      <td>3</td>\n",
       "    </tr>\n",
       "    <tr>\n",
       "      <th>3</th>\n",
       "      <td>Change the category structure. This will incre...</td>\n",
       "      <td>8</td>\n",
       "      <td>3</td>\n",
       "      <td>3</td>\n",
       "      <td>8</td>\n",
       "    </tr>\n",
       "    <tr>\n",
       "      <th>4</th>\n",
       "      <td>Change the background color on the main page. ...</td>\n",
       "      <td>3</td>\n",
       "      <td>1</td>\n",
       "      <td>1</td>\n",
       "      <td>1</td>\n",
       "    </tr>\n",
       "  </tbody>\n",
       "</table>\n",
       "</div>"
      ],
      "text/plain": [
       "                                          Hypothesis  Reach  Impact  \\\n",
       "0  Add two new channels for attracting traffic. T...      3      10   \n",
       "1  Launch your own delivery service. This will sh...      2       5   \n",
       "2  Add product recommendation blocks to the store...      8       3   \n",
       "3  Change the category structure. This will incre...      8       3   \n",
       "4  Change the background color on the main page. ...      3       1   \n",
       "\n",
       "   Confidence  Effort  \n",
       "0           8       6  \n",
       "1           4      10  \n",
       "2           7       3  \n",
       "3           3       8  \n",
       "4           1       1  "
      ]
     },
     "execution_count": 28,
     "metadata": {},
     "output_type": "execute_result"
    }
   ],
   "source": [
    "# Muestra de los datos \n",
    "print(\"Información  del Dtaframe: df_hypotheses\")\n",
    "df_hypotheses.head()"
   ]
  },
  {
   "cell_type": "code",
   "execution_count": 29,
   "metadata": {},
   "outputs": [
    {
     "name": "stdout",
     "output_type": "stream",
     "text": [
      "Información  del Dtaframe: df_orders\n"
     ]
    },
    {
     "data": {
      "text/html": [
       "<div>\n",
       "<style scoped>\n",
       "    .dataframe tbody tr th:only-of-type {\n",
       "        vertical-align: middle;\n",
       "    }\n",
       "\n",
       "    .dataframe tbody tr th {\n",
       "        vertical-align: top;\n",
       "    }\n",
       "\n",
       "    .dataframe thead th {\n",
       "        text-align: right;\n",
       "    }\n",
       "</style>\n",
       "<table border=\"1\" class=\"dataframe\">\n",
       "  <thead>\n",
       "    <tr style=\"text-align: right;\">\n",
       "      <th></th>\n",
       "      <th>transactionId</th>\n",
       "      <th>visitorId</th>\n",
       "      <th>date</th>\n",
       "      <th>revenue</th>\n",
       "      <th>group</th>\n",
       "    </tr>\n",
       "  </thead>\n",
       "  <tbody>\n",
       "    <tr>\n",
       "      <th>0</th>\n",
       "      <td>3667963787</td>\n",
       "      <td>3312258926</td>\n",
       "      <td>2019-08-15</td>\n",
       "      <td>30.4</td>\n",
       "      <td>B</td>\n",
       "    </tr>\n",
       "    <tr>\n",
       "      <th>1</th>\n",
       "      <td>2804400009</td>\n",
       "      <td>3642806036</td>\n",
       "      <td>2019-08-15</td>\n",
       "      <td>15.2</td>\n",
       "      <td>B</td>\n",
       "    </tr>\n",
       "    <tr>\n",
       "      <th>2</th>\n",
       "      <td>2961555356</td>\n",
       "      <td>4069496402</td>\n",
       "      <td>2019-08-15</td>\n",
       "      <td>10.2</td>\n",
       "      <td>A</td>\n",
       "    </tr>\n",
       "    <tr>\n",
       "      <th>3</th>\n",
       "      <td>3797467345</td>\n",
       "      <td>1196621759</td>\n",
       "      <td>2019-08-15</td>\n",
       "      <td>155.1</td>\n",
       "      <td>B</td>\n",
       "    </tr>\n",
       "    <tr>\n",
       "      <th>4</th>\n",
       "      <td>2282983706</td>\n",
       "      <td>2322279887</td>\n",
       "      <td>2019-08-15</td>\n",
       "      <td>40.5</td>\n",
       "      <td>B</td>\n",
       "    </tr>\n",
       "  </tbody>\n",
       "</table>\n",
       "</div>"
      ],
      "text/plain": [
       "   transactionId   visitorId        date  revenue group\n",
       "0     3667963787  3312258926  2019-08-15     30.4     B\n",
       "1     2804400009  3642806036  2019-08-15     15.2     B\n",
       "2     2961555356  4069496402  2019-08-15     10.2     A\n",
       "3     3797467345  1196621759  2019-08-15    155.1     B\n",
       "4     2282983706  2322279887  2019-08-15     40.5     B"
      ]
     },
     "execution_count": 29,
     "metadata": {},
     "output_type": "execute_result"
    }
   ],
   "source": [
    "# Muestra de los datos \n",
    "print(\"Información  del Dtaframe: df_orders\")\n",
    "df_orders.head()"
   ]
  },
  {
   "cell_type": "code",
   "execution_count": 30,
   "metadata": {},
   "outputs": [
    {
     "name": "stdout",
     "output_type": "stream",
     "text": [
      "Información  del Dtaframe: df_visits\n"
     ]
    },
    {
     "data": {
      "text/html": [
       "<div>\n",
       "<style scoped>\n",
       "    .dataframe tbody tr th:only-of-type {\n",
       "        vertical-align: middle;\n",
       "    }\n",
       "\n",
       "    .dataframe tbody tr th {\n",
       "        vertical-align: top;\n",
       "    }\n",
       "\n",
       "    .dataframe thead th {\n",
       "        text-align: right;\n",
       "    }\n",
       "</style>\n",
       "<table border=\"1\" class=\"dataframe\">\n",
       "  <thead>\n",
       "    <tr style=\"text-align: right;\">\n",
       "      <th></th>\n",
       "      <th>date</th>\n",
       "      <th>group</th>\n",
       "      <th>visits</th>\n",
       "    </tr>\n",
       "  </thead>\n",
       "  <tbody>\n",
       "    <tr>\n",
       "      <th>0</th>\n",
       "      <td>2019-08-01</td>\n",
       "      <td>A</td>\n",
       "      <td>719</td>\n",
       "    </tr>\n",
       "    <tr>\n",
       "      <th>1</th>\n",
       "      <td>2019-08-02</td>\n",
       "      <td>A</td>\n",
       "      <td>619</td>\n",
       "    </tr>\n",
       "    <tr>\n",
       "      <th>2</th>\n",
       "      <td>2019-08-03</td>\n",
       "      <td>A</td>\n",
       "      <td>507</td>\n",
       "    </tr>\n",
       "    <tr>\n",
       "      <th>3</th>\n",
       "      <td>2019-08-04</td>\n",
       "      <td>A</td>\n",
       "      <td>717</td>\n",
       "    </tr>\n",
       "    <tr>\n",
       "      <th>4</th>\n",
       "      <td>2019-08-05</td>\n",
       "      <td>A</td>\n",
       "      <td>756</td>\n",
       "    </tr>\n",
       "  </tbody>\n",
       "</table>\n",
       "</div>"
      ],
      "text/plain": [
       "         date group  visits\n",
       "0  2019-08-01     A     719\n",
       "1  2019-08-02     A     619\n",
       "2  2019-08-03     A     507\n",
       "3  2019-08-04     A     717\n",
       "4  2019-08-05     A     756"
      ]
     },
     "execution_count": 30,
     "metadata": {},
     "output_type": "execute_result"
    }
   ],
   "source": [
    "# Muestra de los datos \n",
    "print(\"Información  del Dtaframe: df_visits\")\n",
    "df_visits.head()"
   ]
  },
  {
   "cell_type": "code",
   "execution_count": 31,
   "metadata": {
    "scrolled": true
   },
   "outputs": [
    {
     "name": "stdout",
     "output_type": "stream",
     "text": [
      "Número de valores ausentes: df_hypotheses  Hypothesis    0\n",
      "Reach         0\n",
      "Impact        0\n",
      "Confidence    0\n",
      "Effort        0\n",
      "dtype: int64\n"
     ]
    }
   ],
   "source": [
    "# Valores ausentes\n",
    "print(\"Número de valores ausentes: df_hypotheses \", df_hypotheses.isna().sum())"
   ]
  },
  {
   "cell_type": "code",
   "execution_count": 32,
   "metadata": {},
   "outputs": [
    {
     "name": "stdout",
     "output_type": "stream",
     "text": [
      "Número de valores ausentes: df_orders  transactionId    0\n",
      "visitorId        0\n",
      "date             0\n",
      "revenue          0\n",
      "group            0\n",
      "dtype: int64\n"
     ]
    }
   ],
   "source": [
    "print(\"Número de valores ausentes: df_orders \", df_orders.isna().sum())"
   ]
  },
  {
   "cell_type": "code",
   "execution_count": 33,
   "metadata": {},
   "outputs": [
    {
     "name": "stdout",
     "output_type": "stream",
     "text": [
      "Número de valores ausentes: df_visits  date      0\n",
      "group     0\n",
      "visits    0\n",
      "dtype: int64\n"
     ]
    }
   ],
   "source": [
    "# Valores ausentes\n",
    "print(\"Número de valores ausentes: df_visits \", df_visits.isna().sum())"
   ]
  },
  {
   "cell_type": "code",
   "execution_count": 34,
   "metadata": {},
   "outputs": [
    {
     "name": "stdout",
     "output_type": "stream",
     "text": [
      "Número de valores duplicados: df_hypotheses 0\n",
      "Número de valores duplicados: df_orders 0\n",
      "Número de valores duplicados: df_visits 0\n"
     ]
    }
   ],
   "source": [
    "# Valores duplicados\n",
    "print(\"Número de valores duplicados: df_hypotheses\", df_hypotheses.duplicated().sum())\n",
    "print(\"Número de valores duplicados: df_orders\", df_orders.duplicated().sum())\n",
    "print(\"Número de valores duplicados: df_visits\", df_visits.duplicated().sum())"
   ]
  },
  {
   "cell_type": "code",
   "execution_count": 35,
   "metadata": {},
   "outputs": [
    {
     "name": "stdout",
     "output_type": "stream",
     "text": [
      "Usuarios en ambos grupos: 58\n",
      "Tamaño original del dataset: 1197\n",
      "Tamaño del dataset después de eliminar duplicados: 1016\n"
     ]
    }
   ],
   "source": [
    "# Obtener los identificadores únicos de visitantes por grupo\n",
    "usuarios_grupo_A = set(df_orders[df_orders['group'] == 'A']['visitorId'])\n",
    "usuarios_grupo_B = set(df_orders[df_orders['group'] == 'B']['visitorId'])\n",
    "\n",
    "# Identificar usuarios en ambos grupos\n",
    "usuarios_duplicados = usuarios_grupo_A & usuarios_grupo_B\n",
    "print(f\"Usuarios en ambos grupos: {len(usuarios_duplicados)}\")\n",
    "\n",
    "# Eliminar usuarios duplicados del dataset\n",
    "df_orders_filtrado = df_orders[~df_orders['visitorId'].isin(usuarios_duplicados)]\n",
    "\n",
    "# Verifica el resultado\n",
    "print(f\"Tamaño original del dataset: {df_orders.shape[0]}\")\n",
    "print(f\"Tamaño del dataset después de eliminar duplicados: {df_orders_filtrado.shape[0]}\")"
   ]
  },
  {
   "cell_type": "markdown",
   "metadata": {},
   "source": [
    "<div class=\"alert alert-block alert-info\">\n",
    "De acuerdo con la informacion obtenida estos DF se observa que:\n",
    "    \n",
    "* Tienen columnas de tipo float, object y entero.\n",
    "* No tiene valores ausentes.\n",
    "* No tiene valores duplicados\n",
    "* Sin embargo nos damos cuenta que 58 uduarios estaban duplicados en el grupo A y B. Por lo tanto, eliminamos estos duplicados.\n",
    "</div>"
   ]
  },
  {
   "cell_type": "markdown",
   "metadata": {},
   "source": [
    "## Priorizar hipótesis"
   ]
  },
  {
   "cell_type": "markdown",
   "metadata": {},
   "source": [
    "### ICE "
   ]
  },
  {
   "cell_type": "code",
   "execution_count": 36,
   "metadata": {},
   "outputs": [
    {
     "name": "stdout",
     "output_type": "stream",
     "text": [
      "                                          Hypothesis        ICE\n",
      "8  Launch a promotion that gives users discounts ...  16.200000\n",
      "0  Add two new channels for attracting traffic. T...  13.333333\n",
      "7  Add a subscription form to all the main pages....  11.200000\n",
      "6  Show banners with current offers and sales on ...   8.000000\n",
      "2  Add product recommendation blocks to the store...   7.000000\n",
      "1  Launch your own delivery service. This will sh...   2.000000\n",
      "5  Add a customer review page. This will increase...   1.333333\n",
      "3  Change the category structure. This will incre...   1.125000\n",
      "4  Change the background color on the main page. ...   1.000000\n"
     ]
    }
   ],
   "source": [
    "# Cálculo de ICE y ordenamiento\n",
    "df_hypotheses['ICE'] = (\n",
    "    df_hypotheses['Impact'] * df_hypotheses['Confidence']\n",
    ") / df_hypotheses['Effort']\n",
    "print(df_hypotheses[['Hypothesis', 'ICE']].sort_values(by='ICE', ascending=False))"
   ]
  },
  {
   "cell_type": "markdown",
   "metadata": {},
   "source": [
    "### RICE"
   ]
  },
  {
   "cell_type": "code",
   "execution_count": 37,
   "metadata": {},
   "outputs": [
    {
     "name": "stdout",
     "output_type": "stream",
     "text": [
      "                                          Hypothesis   RICE\n",
      "7  Add a subscription form to all the main pages....  112.0\n",
      "2  Add product recommendation blocks to the store...   56.0\n",
      "0  Add two new channels for attracting traffic. T...   40.0\n",
      "6  Show banners with current offers and sales on ...   40.0\n",
      "8  Launch a promotion that gives users discounts ...   16.2\n",
      "3  Change the category structure. This will incre...    9.0\n",
      "1  Launch your own delivery service. This will sh...    4.0\n",
      "5  Add a customer review page. This will increase...    4.0\n",
      "4  Change the background color on the main page. ...    3.0\n"
     ]
    }
   ],
   "source": [
    "# Cálculo de RICE y ordenamiento\n",
    "df_hypotheses['RICE'] = (\n",
    "    df_hypotheses['Reach'] * df_hypotheses['Impact'] * df_hypotheses['Confidence']\n",
    ") / df_hypotheses['Effort']\n",
    "print(df_hypotheses[['Hypothesis', 'RICE']].sort_values(by='RICE', ascending=False))"
   ]
  },
  {
   "cell_type": "markdown",
   "metadata": {},
   "source": [
    "### Comparar ICE y RICE"
   ]
  },
  {
   "cell_type": "code",
   "execution_count": 38,
   "metadata": {},
   "outputs": [
    {
     "data": {
      "text/html": [
       "<div>\n",
       "<style scoped>\n",
       "    .dataframe tbody tr th:only-of-type {\n",
       "        vertical-align: middle;\n",
       "    }\n",
       "\n",
       "    .dataframe tbody tr th {\n",
       "        vertical-align: top;\n",
       "    }\n",
       "\n",
       "    .dataframe thead th {\n",
       "        text-align: right;\n",
       "    }\n",
       "</style>\n",
       "<table border=\"1\" class=\"dataframe\">\n",
       "  <thead>\n",
       "    <tr style=\"text-align: right;\">\n",
       "      <th></th>\n",
       "      <th>Hypothesis</th>\n",
       "      <th>ICE</th>\n",
       "      <th>RICE</th>\n",
       "    </tr>\n",
       "  </thead>\n",
       "  <tbody>\n",
       "    <tr>\n",
       "      <th>7</th>\n",
       "      <td>Add a subscription form to all the main pages....</td>\n",
       "      <td>11.200000</td>\n",
       "      <td>112.0</td>\n",
       "    </tr>\n",
       "    <tr>\n",
       "      <th>2</th>\n",
       "      <td>Add product recommendation blocks to the store...</td>\n",
       "      <td>7.000000</td>\n",
       "      <td>56.0</td>\n",
       "    </tr>\n",
       "    <tr>\n",
       "      <th>0</th>\n",
       "      <td>Add two new channels for attracting traffic. T...</td>\n",
       "      <td>13.333333</td>\n",
       "      <td>40.0</td>\n",
       "    </tr>\n",
       "    <tr>\n",
       "      <th>6</th>\n",
       "      <td>Show banners with current offers and sales on ...</td>\n",
       "      <td>8.000000</td>\n",
       "      <td>40.0</td>\n",
       "    </tr>\n",
       "    <tr>\n",
       "      <th>8</th>\n",
       "      <td>Launch a promotion that gives users discounts ...</td>\n",
       "      <td>16.200000</td>\n",
       "      <td>16.2</td>\n",
       "    </tr>\n",
       "    <tr>\n",
       "      <th>3</th>\n",
       "      <td>Change the category structure. This will incre...</td>\n",
       "      <td>1.125000</td>\n",
       "      <td>9.0</td>\n",
       "    </tr>\n",
       "    <tr>\n",
       "      <th>1</th>\n",
       "      <td>Launch your own delivery service. This will sh...</td>\n",
       "      <td>2.000000</td>\n",
       "      <td>4.0</td>\n",
       "    </tr>\n",
       "    <tr>\n",
       "      <th>5</th>\n",
       "      <td>Add a customer review page. This will increase...</td>\n",
       "      <td>1.333333</td>\n",
       "      <td>4.0</td>\n",
       "    </tr>\n",
       "    <tr>\n",
       "      <th>4</th>\n",
       "      <td>Change the background color on the main page. ...</td>\n",
       "      <td>1.000000</td>\n",
       "      <td>3.0</td>\n",
       "    </tr>\n",
       "  </tbody>\n",
       "</table>\n",
       "</div>"
      ],
      "text/plain": [
       "                                          Hypothesis        ICE   RICE\n",
       "7  Add a subscription form to all the main pages....  11.200000  112.0\n",
       "2  Add product recommendation blocks to the store...   7.000000   56.0\n",
       "0  Add two new channels for attracting traffic. T...  13.333333   40.0\n",
       "6  Show banners with current offers and sales on ...   8.000000   40.0\n",
       "8  Launch a promotion that gives users discounts ...  16.200000   16.2\n",
       "3  Change the category structure. This will incre...   1.125000    9.0\n",
       "1  Launch your own delivery service. This will sh...   2.000000    4.0\n",
       "5  Add a customer review page. This will increase...   1.333333    4.0\n",
       "4  Change the background color on the main page. ...   1.000000    3.0"
      ]
     },
     "execution_count": 38,
     "metadata": {},
     "output_type": "execute_result"
    }
   ],
   "source": [
    "df_hypotheses[['Hypothesis', 'ICE', 'RICE']].sort_values(by=['RICE'], ascending=False)"
   ]
  },
  {
   "cell_type": "markdown",
   "metadata": {},
   "source": [
    "<div class=\"alert alert-block alert-info\">\n",
    "Observaciones de la comparación ICE - RICE:\n",
    "    \n",
    "* Formulario de suscripción (#7): Esto indica que su alto alcance (Reach) jugó un papel crucial en la priorización según RICE.\n",
    "* La recomendación de productos (#2): Esto sugiere que aunque su impacto y confianza no eran tan altos comparados con otras hipótesis, su alcance le da mucho peso en la priorización.\n",
    "* Las hipótesis con alto impacto pero bajo alcance bajaron en el ranking con RICE\n",
    "* Cambiar el fondo (#4) o agregar una página de reseñas (#5) tienen bajo ICE y RICE, lo que indica que son de baja prioridad.\n",
    "</div>"
   ]
  },
  {
   "cell_type": "markdown",
   "metadata": {},
   "source": [
    "## Parte 2. Análisis del test A/B"
   ]
  },
  {
   "cell_type": "code",
   "execution_count": 39,
   "metadata": {},
   "outputs": [
    {
     "name": "stdout",
     "output_type": "stream",
     "text": [
      "   transactionId   visitorId       date  revenue group  visits\n",
      "0     3667963787  3312258926 2019-08-15     30.4     B     544\n",
      "1     2804400009  3642806036 2019-08-15     15.2     B     544\n",
      "2     2961555356  4069496402 2019-08-15     10.2     A     628\n",
      "3     3797467345  1196621759 2019-08-15    155.1     B     544\n",
      "4     2282983706  2322279887 2019-08-15     40.5     B     544\n"
     ]
    }
   ],
   "source": [
    "#  fusiona las dos tablas en una y da a sus columnas nombres descriptivos\n",
    "df_orders['date'] = pd.to_datetime(df_orders['date'])\n",
    "df_visits['date'] = pd.to_datetime(df_visits['date'])\n",
    "df_combined = pd.merge(df_orders, df_visits, on=['date', 'group'], how='left')\n",
    "print(df_combined.head(5))"
   ]
  },
  {
   "cell_type": "markdown",
   "metadata": {},
   "source": [
    "### Ingreso acumulado por grupo"
   ]
  },
  {
   "cell_type": "code",
   "execution_count": 40,
   "metadata": {},
   "outputs": [
    {
     "data": {
      "image/png": "[encoded data removed]",
      "text/plain": [
       "<Figure size 1200x600 with 1 Axes>"
      ]
     },
     "metadata": {},
     "output_type": "display_data"
    }
   ],
   "source": [
    "# Asegurarse de que la columna 'Fecha' es de tipo datetime\n",
    "df_combined['date'] = pd.to_datetime(df_combined['date'])\n",
    "\n",
    "# Ordenar los datos por fecha\n",
    "df_combined = df_combined.sort_values(by='date')\n",
    "\n",
    "# DataFrame con pedidos acumulados e ingresos acumulados por día\n",
    "cumulativeRevenueA = df_combined[df_combined['group'] == 'A'][['date', 'revenue']].groupby('date').sum().cumsum()\n",
    "cumulativeRevenueB = df_combined[df_combined['group'] == 'B'][['date', 'revenue']].groupby('date').sum().cumsum()\n",
    "\n",
    "# Trazar el gráfico de ingresos acumulados\n",
    "plt.figure(figsize=(12, 6))\n",
    "plt.plot(cumulativeRevenueA.index, cumulativeRevenueA['revenue'], label='A', linestyle='-', marker='o')\n",
    "plt.plot(cumulativeRevenueB.index, cumulativeRevenueB['revenue'], label='B', linestyle='-', marker='s')\n",
    "\n",
    "# Personalizar el gráfico\n",
    "plt.title('Ingreso Acumulado por Grupo en el Test A/B')\n",
    "plt.xlabel('Fecha')\n",
    "plt.ylabel('Ingreso Acumulado')\n",
    "plt.legend()\n",
    "plt.xticks(rotation=45)\n",
    "plt.grid(axis='y', linestyle='--', alpha=0.7)\n",
    "\n",
    "# Mostrar el gráfico\n",
    "plt.show()"
   ]
  },
  {
   "cell_type": "markdown",
   "metadata": {},
   "source": [
    "Durante toda la prueba los ingresos aumentaron constantemente.\n",
    "El grupo B a partir del 17 de Agosto tomo ventaja sobre el grupo A."
   ]
  },
  {
   "cell_type": "markdown",
   "metadata": {},
   "source": [
    "### Promedio acumulado por grupo"
   ]
  },
  {
   "cell_type": "code",
   "execution_count": 41,
   "metadata": {},
   "outputs": [
    {
     "data": {
      "text/plain": [
       "Text(0, 0.5, 'Diferencia relativa')"
      ]
     },
     "execution_count": 41,
     "metadata": {},
     "output_type": "execute_result"
    },
    {
     "data": {
      "image/png": "[encoded data removed]",
      "text/plain": [
       "<Figure size 640x480 with 1 Axes>"
      ]
     },
     "metadata": {},
     "output_type": "display_data"
    }
   ],
   "source": [
    "# reunir los datos en un DataFrame\n",
    "mergedCumulativeRevenue = cumulativeRevenueA.merge(cumulativeRevenueB, left_on='date', right_on='date', how='left', suffixes=['A', 'B'])\n",
    "\n",
    "mergedCumulativeRevenue.reset_index(inplace=True)\n",
    "\n",
    "# trazar un gráfico de diferencia relativa para los tamaños de compra promedio\n",
    "plt.plot(mergedCumulativeRevenue['date'], (mergedCumulativeRevenue['revenueB'])/(mergedCumulativeRevenue['revenueA'])-1)\n",
    "\n",
    "# agregar el eje X\n",
    "plt.axhline(y=0, color='black', linestyle='--')\n",
    "\n",
    "# Agregar línea de referencia en 0\n",
    "plt.axhline(y=0, color='black', linestyle='--')\n",
    "\n",
    "# Personalizar el gráfico\n",
    "plt.title(\"Diferencia relativa en tamaño de compra promedio (Grupo B vs Grupo A)\")\n",
    "plt.xlabel(\"Fecha\")\n",
    "plt.ylabel(\"Diferencia relativa\")"
   ]
  },
  {
   "cell_type": "markdown",
   "metadata": {},
   "source": [
    "<div class=\"alert alert-block alert-info\">\n",
    "<b>Respuesta.</b> <a class=\"tocSkip\"></a>\n",
    "La diferencia entre los segmentos aumenta. ¡Esto significa que debe haber algunos pedidos grandes y valores atípicos!\n",
    "</div>"
   ]
  },
  {
   "cell_type": "markdown",
   "metadata": {},
   "source": [
    "### Diferencia relativa en el tamaño de pedido promedio"
   ]
  },
  {
   "cell_type": "code",
   "execution_count": 43,
   "metadata": {},
   "outputs": [
    {
     "name": "stdout",
     "output_type": "stream",
     "text": [
      "   group       date     revenue\n",
      "0      A 2019-08-01   98.200000\n",
      "1      A 2019-08-02   75.175000\n",
      "2      A 2019-08-03   75.633333\n",
      "3      A 2019-08-04   71.662500\n",
      "4      A 2019-08-05   79.524000\n",
      "..   ...        ...         ...\n",
      "57     B 2019-08-27  144.987500\n",
      "58     B 2019-08-28   55.642857\n",
      "59     B 2019-08-29  181.185000\n",
      "60     B 2019-08-30  141.387500\n",
      "61     B 2019-08-31  105.215000\n",
      "\n",
      "[62 rows x 3 columns]\n"
     ]
    }
   ],
   "source": [
    "# promedio x día \n",
    "df_orders['date'] = pd.to_datetime(df_orders['date'])\n",
    "df_orders = df_orders.sort_values('date')\n",
    "\n",
    "\n",
    "daily_avg = (\n",
    "    df_orders\n",
    "      .groupby(['group', 'date'])['revenue']\n",
    "      .mean()                   \n",
    "      .reset_index()\n",
    ")\n",
    "print(daily_avg)"
   ]
  },
  {
   "cell_type": "code",
   "execution_count": 44,
   "metadata": {},
   "outputs": [
    {
     "name": "stdout",
     "output_type": "stream",
     "text": [
      "   group       date     revenue     cum_avg\n",
      "0      A 2019-08-01   98.200000   98.200000\n",
      "1      A 2019-08-02   75.175000   86.687500\n",
      "2      A 2019-08-03   75.633333   83.002778\n",
      "3      A 2019-08-04   71.662500   80.167708\n",
      "4      A 2019-08-05   79.524000   80.038967\n",
      "..   ...        ...         ...         ...\n",
      "57     B 2019-08-27  144.987500  147.687349\n",
      "58     B 2019-08-28   55.642857  144.400045\n",
      "59     B 2019-08-29  181.185000  145.668492\n",
      "60     B 2019-08-30  141.387500  145.525792\n",
      "61     B 2019-08-31  105.215000  144.225444\n",
      "\n",
      "[62 rows x 4 columns]\n"
     ]
    }
   ],
   "source": [
    "# promedio acumulado x grupo\n",
    "\n",
    "daily_avg['cum_avg'] = (\n",
    "    daily_avg\n",
    "      .groupby('group')['revenue']\n",
    "      .expanding()                  # ventana acumulada\n",
    "      .mean()\n",
    "      .reset_index(level=0, drop=True)\n",
    ")\n",
    "print(daily_avg)"
   ]
  },
  {
   "cell_type": "code",
   "execution_count": 45,
   "metadata": {},
   "outputs": [
    {
     "name": "stdout",
     "output_type": "stream",
     "text": [
      "group                A           B  rel_diff_B_vs_A\n",
      "date                                               \n",
      "2019-08-01   98.200000   77.142857        -0.214431\n",
      "2019-08-02   86.687500   93.233929         0.075518\n",
      "2019-08-03   83.002778   99.797619         0.202341\n",
      "2019-08-04   80.167708  100.102626         0.248665\n",
      "2019-08-05   80.038967   93.082101         0.162960\n",
      "2019-08-06   74.012102  100.225560         0.354178\n",
      "2019-08-07   81.239738  106.928456         0.316209\n",
      "2019-08-08   83.041021  109.709622         0.321150\n",
      "2019-08-09   94.280213  108.888997         0.154951\n",
      "2019-08-10  105.403442  105.480097         0.000727\n",
      "2019-08-11  104.420611  101.913375        -0.024011\n",
      "2019-08-12  109.298060  101.557188        -0.070824\n",
      "2019-08-13  123.400957  100.741434        -0.183625\n",
      "2019-08-14  117.755650  101.967046        -0.134079\n",
      "2019-08-15  116.163940  106.700210        -0.081469\n",
      "2019-08-16  114.456125  108.461760        -0.052373\n",
      "2019-08-17  112.461647  107.466110        -0.044420\n",
      "2019-08-18  110.043189  107.945770        -0.019060\n",
      "2019-08-19  111.402399  157.564915         0.414376\n",
      "2019-08-20  110.966863  155.498170         0.401303\n",
      "2019-08-21  111.387695  156.787032         0.407579\n",
      "2019-08-22  111.390811  154.316349         0.385360\n",
      "2019-08-23  109.831211  152.822885         0.391434\n",
      "2019-08-24  110.817966  150.432348         0.357473\n",
      "2019-08-25  110.700847  149.062197         0.346532\n",
      "2019-08-26  112.368123  147.791189         0.315241\n",
      "2019-08-27  114.173404  147.687349         0.293535\n",
      "2019-08-28  113.462589  144.400045         0.272667\n",
      "2019-08-29  117.380023  145.668492         0.240999\n",
      "2019-08-30  117.601598  145.525792         0.237447\n",
      "2019-08-31  116.473052  144.225444         0.238273\n"
     ]
    }
   ],
   "source": [
    "# --- Pivot para comparar A vs. B --------------\n",
    "cum_pivot = daily_avg.pivot(index='date', columns='group', values='cum_avg')\n",
    "\n",
    "# ---  Diferencia relativa (B-A) / A ------------\n",
    "cum_pivot['rel_diff_B_vs_A'] = (\n",
    "    (cum_pivot['B'] - cum_pivot['A']) / cum_pivot['A']\n",
    ")\n",
    "\n",
    "print(cum_pivot)"
   ]
  },
  {
   "cell_type": "code",
   "execution_count": 46,
   "metadata": {},
   "outputs": [
    {
     "data": {
      "image/png": "[encoded data removed]",
      "text/plain": [
       "<Figure size 1200x500 with 1 Axes>"
      ]
     },
     "metadata": {},
     "output_type": "display_data"
    }
   ],
   "source": [
    "# --- 6. Gráfica -----------------------------------\n",
    "plt.figure(figsize=(12, 5))\n",
    "plt.plot(cum_pivot.index, cum_pivot['rel_diff_B_vs_A'])\n",
    "plt.axhline(0, ls='--', lw=1)               # referencia de “sin diferencia”\n",
    "plt.title('Diferencia relativa acumuladaen el tamaño de pedido promedio (B vs. A)')\n",
    "plt.ylabel('((B − A) / A)')\n",
    "plt.xlabel('Fecha')\n",
    "plt.xticks(rotation=45)\n",
    "plt.tight_layout()\n",
    "plt.show()"
   ]
  },
  {
   "cell_type": "markdown",
   "metadata": {},
   "source": [
    "### Tasa de conversión"
   ]
  },
  {
   "cell_type": "markdown",
   "metadata": {},
   "source": [
    "* El grupo B termina con un ticket medio acumulado más alto que el grupo A, a pesar de algunas fluctuaciones. Esto puede indicar que alguna intervención o cambio en B tuvo un efecto positivo en el comportamiento de compra, especialmente a partir del 18 de agosto."
   ]
  },
  {
   "cell_type": "code",
   "execution_count": 47,
   "metadata": {},
   "outputs": [],
   "source": [
    "# Calcula la tasa de conversión de cada grupo como la relación entre los pedidos y el número de visitas de cada día\n",
    "\n",
    "df_orders['date'] = pd.to_datetime(df_orders['date']).dt.date\n",
    "df_visits['date'] = pd.to_datetime(df_visits['date']).dt.date\n",
    "\n",
    "df_combined = pd.merge(df_orders, df_visits, on=['date', 'group'], how='left')\n",
    "\n",
    "daily_conv = (\n",
    "    df_combined\n",
    "    .groupby(['group', 'date'])\n",
    "    .agg(\n",
    "        orders=('revenue', 'count'),\n",
    "        visits=('visits', 'first')  \n",
    "    )\n",
    "    .reset_index()\n",
    ")\n",
    "\n",
    "daily_conv['conversion_rate'] = daily_conv['orders'] / daily_conv['visits']"
   ]
  },
  {
   "cell_type": "code",
   "execution_count": 48,
   "metadata": {},
   "outputs": [
    {
     "data": {
      "image/png": "[encoded data removed]",
      "text/plain": [
       "<Figure size 1200x500 with 1 Axes>"
      ]
     },
     "metadata": {},
     "output_type": "display_data"
    }
   ],
   "source": [
    "plt.figure(figsize=(12, 5))\n",
    "sns.lineplot(data=daily_conv, x='date', y='conversion_rate', hue='group')\n",
    "plt.title('Tasa de conversión diaria por grupo (A vs. B)')\n",
    "plt.ylabel('Tasa de conversión')\n",
    "plt.xlabel('Fecha')\n",
    "plt.xticks(rotation=45)\n",
    "plt.tight_layout()\n",
    "plt.show()"
   ]
  },
  {
   "cell_type": "markdown",
   "metadata": {},
   "source": [
    "* Grupo B suele tener una tasa de conversión diaria más alta que el grupo A durante la mayoría del período observado.\n",
    "\n",
    "* Hay días en los que las tasas se cruzan, pero en general, B mantiene una ventaja constante.\n",
    "\n",
    "* La diferencia no es lineal ni constante: hay picos de conversión en ambos grupos\n",
    "\n",
    "Grupo B convierte mejor: La tasa de conversión más alta sugiere que los usuarios del grupo B están más dispuestos a completar una compra después de visitar el sitio."
   ]
  },
  {
   "cell_type": "markdown",
   "metadata": {},
   "source": [
    "### Gráfico de dispersión del número de pedidos por usuario"
   ]
  },
  {
   "cell_type": "code",
   "execution_count": 49,
   "metadata": {},
   "outputs": [
    {
     "data": {
      "image/png": "[encoded data removed]",
      "text/plain": [
       "<Figure size 1000x500 with 1 Axes>"
      ]
     },
     "metadata": {},
     "output_type": "display_data"
    }
   ],
   "source": [
    "orders_per_user = df_orders.groupby('visitorId')['revenue'].count().reset_index()\n",
    "orders_per_user.columns = ['visitorId', 'order_count']\n",
    "\n",
    "\n",
    "plt.figure(figsize=(10, 5))\n",
    "sns.stripplot(data=orders_per_user, x='order_count', jitter=True)\n",
    "plt.title('Número de pedidos por usuario')\n",
    "plt.xlabel('Pedidos')\n",
    "plt.ylabel('Frecuencia de usuarios')\n",
    "plt.tight_layout()\n",
    "plt.show()\n"
   ]
  },
  {
   "cell_type": "markdown",
   "metadata": {},
   "source": [
    "* La mayoría de los usuarios solo hacen 1 pedido, y hay una disminución clara en el número de usuarios que hacen más de uno.\n",
    "* Aquellos que han hecho 3 o más pedidos podrían representar una base valiosa de usuarios fieles.\n",
    "* Podría haber oportunidades para mejorar la fidelización a través de email marketing, descuentos por recompra o programas de puntos."
   ]
  },
  {
   "cell_type": "markdown",
   "metadata": {},
   "source": [
    "###  Percentiles 95 y 99 "
   ]
  },
  {
   "cell_type": "code",
   "execution_count": 50,
   "metadata": {},
   "outputs": [
    {
     "name": "stdout",
     "output_type": "stream",
     "text": [
      "[1. 2. 4.]\n"
     ]
    }
   ],
   "source": [
    "orders_per_user = df_orders.groupby('visitorId')['revenue'].count().reset_index()\n",
    "orders_per_user.columns = ['visitorId', 'order_count']\n",
    "\n",
    "\n",
    "print(np.percentile(orders_per_user['order_count'], [90, 95, 99]))"
   ]
  },
  {
   "cell_type": "markdown",
   "metadata": {},
   "source": [
    "No más del 5% de los usuarios realizaron más de dos pedidos y no más del 1% de los usuarios realizaron más de cuatro."
   ]
  },
  {
   "cell_type": "markdown",
   "metadata": {},
   "source": [
    "### Gráfico de dispersión de los precios de los pedidos"
   ]
  },
  {
   "cell_type": "code",
   "execution_count": 51,
   "metadata": {},
   "outputs": [
    {
     "data": {
      "text/plain": [
       "<matplotlib.collections.PathCollection at 0x7fab62773c40>"
      ]
     },
     "execution_count": 51,
     "metadata": {},
     "output_type": "execute_result"
    },
    {
     "data": {
      "image/png": "[encoded data removed]",
      "text/plain": [
       "<Figure size 640x480 with 1 Axes>"
      ]
     },
     "metadata": {},
     "output_type": "display_data"
    }
   ],
   "source": [
    "x_values = pd.Series(range(0,len(df_orders['revenue'])))\n",
    "\n",
    "plt.scatter(x_values,df_orders['revenue'])"
   ]
  },
  {
   "cell_type": "markdown",
   "metadata": {},
   "source": [
    "No hay muchos pedidos que cuesten más de 2.500. Hay valores atípicos de más o menos 3.000 y 20.000.\n",
    "\n",
    "El pedido de $20.000 definitivamente parece bastante anómalo."
   ]
  },
  {
   "cell_type": "markdown",
   "metadata": {},
   "source": [
    "### Percentiles 95 y 99 de los precios de los pedidos"
   ]
  },
  {
   "cell_type": "code",
   "execution_count": 52,
   "metadata": {},
   "outputs": [
    {
     "name": "stdout",
     "output_type": "stream",
     "text": [
      "Percentiles 95/99: [435.54  900.904]\n"
     ]
    }
   ],
   "source": [
    "print(\"Percentiles 95/99:\", np.percentile(df_orders['revenue'], [95, 99]))"
   ]
  },
  {
   "cell_type": "markdown",
   "metadata": {},
   "source": [
    "No más del 5% de los usuarios realizaron pedidos que costaron más de $ 435.54. No más del 1% realizaron pedidos más caros que $ 900.904."
   ]
  },
  {
   "cell_type": "markdown",
   "metadata": {},
   "source": [
    "### Significancia estadística de la diferencia en la conversión"
   ]
  },
  {
   "cell_type": "code",
   "execution_count": 53,
   "metadata": {},
   "outputs": [
    {
     "name": "stdout",
     "output_type": "stream",
     "text": [
      "0.822\n",
      "-0.000\n"
     ]
    }
   ],
   "source": [
    "ordersByUsersA = df_combined[df_combined['group']=='A'].groupby('visitorId', as_index=False).agg({'transactionId' : pd.Series.nunique})\n",
    "ordersByUsersA.columns = ['visitorId', 'orders']\n",
    "\n",
    "ordersByUsersB = df_combined[df_combined['group']=='B'].groupby('visitorId', as_index=False).agg({'transactionId' : pd.Series.nunique})\n",
    "ordersByUsersB.columns = ['visitorId', 'orders']\n",
    "\n",
    "sampleA = pd.concat([ordersByUsersA['orders'],pd.Series(0, index=np.arange(df_combined[df_combined['group']=='A']['visits'].sum() - len(ordersByUsersA['orders'])), name='orders')],axis=0)\n",
    "\n",
    "sampleB = pd.concat([ordersByUsersB['orders'],pd.Series(0, index=np.arange(df_combined[df_combined['group']=='B']['visits'].sum() - len(ordersByUsersB['orders'])), name='orders')],axis=0)\n",
    "\n",
    "print(\"{0:.3f}\".format(stats.mannwhitneyu(sampleA, sampleB)[1]))\n",
    "\n",
    "print(\"{0:.3f}\".format(sampleB.mean()/sampleA.mean()-1))"
   ]
  },
  {
   "cell_type": "markdown",
   "metadata": {},
   "source": [
    "p-value = 0.441\n",
    "* No hay diferencia estadísticamente significativa entre los grupos A y B en términos de conversión:\n",
    "* El p-value (0.822) es mucho mayor que el umbral común de significancia (0.05).\n",
    "* El grupo B no convierte mejor ni peor que el grupo A."
   ]
  },
  {
   "cell_type": "markdown",
   "metadata": {},
   "source": [
    "### Significancia estadística de la diferencia en el tamaño promedio de pedido"
   ]
  },
  {
   "cell_type": "code",
   "execution_count": 54,
   "metadata": {},
   "outputs": [
    {
     "name": "stdout",
     "output_type": "stream",
     "text": [
      "0.692\n",
      "0.252\n"
     ]
    }
   ],
   "source": [
    "print('{0:.3f}'.format(stats.mannwhitneyu(df_orders[df_orders['group']=='A']['revenue'], df_orders[df_orders['group']=='B']['revenue'])[1]))\n",
    "print('{0:.3f}'.format(df_orders[df_orders['group']=='B']['revenue'].mean()/df_orders[df_orders['group']=='A']['revenue'].mean()-1))"
   ]
  },
  {
   "cell_type": "markdown",
   "metadata": {},
   "source": [
    "* No hay evidencia estadística suficiente para afirmar que el tamaño promedio de pedido es diferente entre los grupos.\n",
    "* El p-value = 0.692 está muy por encima del umbral del 0.05, por lo que no se puede rechazar la hipótesis nula."
   ]
  },
  {
   "cell_type": "markdown",
   "metadata": {},
   "source": [
    "### Significancia estadística utilizando los datos filtrados"
   ]
  },
  {
   "cell_type": "code",
   "execution_count": 55,
   "metadata": {},
   "outputs": [
    {
     "name": "stdout",
     "output_type": "stream",
     "text": [
      "227    2038680547\n",
      "326    2378935119\n",
      "278    2458001652\n",
      "499    4256040402\n",
      "Name: visitorId, dtype: int64\n",
      "(4,)\n"
     ]
    }
   ],
   "source": [
    "usersWithManyOrders = pd.concat([ordersByUsersA[ordersByUsersA['orders'] > 4]['visitorId'], ordersByUsersB[ordersByUsersB['orders'] > 4]['visitorId']], axis = 0)\n",
    "usersWithExpensiveOrders = df_orders[df_orders['revenue'] > 20000]['visitorId']\n",
    "abnormalUsers = pd.concat([usersWithManyOrders, usersWithExpensiveOrders], axis = 0).drop_duplicates().sort_values()\n",
    "print(abnormalUsers.head(5))\n",
    "print(abnormalUsers.shape)"
   ]
  },
  {
   "cell_type": "markdown",
   "metadata": {},
   "source": [
    "En total, tenemos 4 usuarios anómalos."
   ]
  },
  {
   "cell_type": "code",
   "execution_count": 56,
   "metadata": {},
   "outputs": [],
   "source": [
    "sampleAFiltered = pd.concat([ordersByUsersA[np.logical_not(ordersByUsersA['visitorId'].isin(abnormalUsers))]['orders'],pd.Series(0, index=np.arange(df_visits[df_visits['group']=='A']['visits'].sum() - len(ordersByUsersA['orders'])),name='orders')],axis=0)\n",
    "\n",
    "sampleBFiltered = pd.concat([ordersByUsersB[np.logical_not(ordersByUsersB['visitorId'].isin(abnormalUsers))]['orders'],pd.Series(0, index=np.arange(df_visits[df_visits['group']=='B']['visits'].sum() - len(ordersByUsersB['orders'])),name='orders')],axis=0)"
   ]
  },
  {
   "cell_type": "code",
   "execution_count": 57,
   "metadata": {},
   "outputs": [
    {
     "name": "stdout",
     "output_type": "stream",
     "text": [
      "0.016\n",
      "0.149\n"
     ]
    }
   ],
   "source": [
    "print(\"{0:.3f}\".format(stats.mannwhitneyu(sampleAFiltered, sampleBFiltered)[1]))\n",
    "print(\"{0:.3f}\".format(sampleBFiltered.mean()/sampleAFiltered.mean()-1))"
   ]
  },
  {
   "cell_type": "markdown",
   "metadata": {},
   "source": [
    "* El p-valor de 0.016 está por debajo del umbral común de 0.05, lo que indica que la diferencia en la conversión entre los grupos A y B es significativa.\n",
    "\n",
    "* Esto contrasta con el análisis anterior (sin filtrar), donde el p-valor era alto (0.822) y no había diferencia relevante."
   ]
  },
  {
   "cell_type": "markdown",
   "metadata": {},
   "source": [
    "### Significancia estadística de la diferencia en el tamaño promedio de pedido entre los grupos utilizando los datos filtrados"
   ]
  },
  {
   "cell_type": "code",
   "execution_count": 58,
   "metadata": {},
   "outputs": [
    {
     "name": "stdout",
     "output_type": "stream",
     "text": [
      "0.960\n",
      "0.235\n"
     ]
    }
   ],
   "source": [
    "# Muestra el valor p calculado con la prueba U de Mann-Whitney\n",
    "print(\"{0:.3f}\".format(stats.mannwhitneyu(\n",
    "    df_orders[np.logical_and(\n",
    "        df_orders['group']=='A',  # Selecciona datos en el grupo A\n",
    "        np.logical_not(df_orders['visitorId'].isin(abnormalUsers)))]['revenue'],  # Excluye los usuarios anormales y selecciona los datos de ingreso para el grupo A\n",
    "    df_orders[np.logical_and(\n",
    "        df_orders['group']=='B',  # Selecciona datos en el grupo B\n",
    "        np.logical_not(df_orders['visitorId'].isin(abnormalUsers)))]['revenue']  # Excluye los usuarios anormales y selecciona los datos de ingreso para el grupo B\n",
    ")[1]))  # Extrae el valor p de los resultados de la prueba\n",
    "\n",
    "# Muestra la diferencia relativa en el ingreso medio entre los grupos B y A\n",
    "print(\"{0:.3f}\".format(\n",
    "    df_orders[np.logical_and(df_orders['group']=='B',  # Selecciona datos en el grupo B\n",
    "           np.logical_not(df_orders['visitorId'].isin(abnormalUsers)))]['revenue'].mean() /  # Calcula el ingreso medio para el grupo B\n",
    "    df_orders[np.logical_and(df_orders['group']=='A',  # Selecciona datos en el grupo A\n",
    "           np.logical_not(df_orders['visitorId'].isin(abnormalUsers)))]['revenue'].mean() - 1))  # Calcula el ingreso medio para el grupo A y muestra la diferencia relativa"
   ]
  },
  {
   "cell_type": "markdown",
   "metadata": {},
   "source": [
    "* El valor p de 0.960 indica que no hay evidencia estadísticamente significativa para rechazar la hipótesis nula, que asume que las distribuciones de los tamaños de pedido (ingresos) en ambos grupos son iguales.\n",
    "* Aunque el grupo B muestra un ingreso promedio 23.5% mayor que el grupo A, esta diferencia no es estadísticamente significativa, como lo confirma el valor p elevado"
   ]
  },
  {
   "cell_type": "markdown",
   "metadata": {},
   "source": [
    "<div class=\"alert alert-block alert-info\"> \n",
    "    \n",
    "Conclusion\n",
    "    \n",
    "Con base en los resultados se recomienda parar la prueba, ya que no hay diferencia entre los grupos.El valor p tan alto indica que no hay evidencia de una diferencia real entre los grupos.\n",
    "Basándonos en estos hechos, podemos concluir que la prueba no fue exitosa y debe pararse. No tiene sentido continuarla, ya que la probabilidad de que el segmento B resulte ser mejor que el segmento A es casi inexistente. \n",
    "</div>"
   ]
  }
 ],
 "metadata": {
  "ExecuteTimeLog": [
   {
    "duration": 173,
    "start_time": "2025-04-23T17:43:10.346Z"
   },
   {
    "duration": 14,
    "start_time": "2025-04-23T17:43:54.211Z"
   },
   {
    "duration": 2634,
    "start_time": "2025-04-23T17:43:57.543Z"
   },
   {
    "duration": 23,
    "start_time": "2025-04-23T17:44:00.179Z"
   },
   {
    "duration": 18,
    "start_time": "2025-04-23T17:44:00.204Z"
   },
   {
    "duration": 9,
    "start_time": "2025-04-23T17:55:31.715Z"
   },
   {
    "duration": 8,
    "start_time": "2025-04-23T17:56:08.869Z"
   },
   {
    "duration": 6,
    "start_time": "2025-04-23T17:56:31.451Z"
   },
   {
    "duration": 8,
    "start_time": "2025-04-23T17:56:46.696Z"
   },
   {
    "duration": 8,
    "start_time": "2025-04-23T17:57:05.144Z"
   },
   {
    "duration": 4,
    "start_time": "2025-04-23T17:58:00.731Z"
   },
   {
    "duration": 74,
    "start_time": "2025-04-23T17:58:28.381Z"
   },
   {
    "duration": 3,
    "start_time": "2025-04-23T17:58:39.414Z"
   },
   {
    "duration": 15,
    "start_time": "2025-04-23T17:58:39.420Z"
   },
   {
    "duration": 18,
    "start_time": "2025-04-23T17:58:39.437Z"
   },
   {
    "duration": 6,
    "start_time": "2025-04-23T17:58:39.456Z"
   },
   {
    "duration": 8,
    "start_time": "2025-04-23T17:58:39.466Z"
   },
   {
    "duration": 8,
    "start_time": "2025-04-23T17:58:39.475Z"
   },
   {
    "duration": 4,
    "start_time": "2025-04-23T17:58:39.484Z"
   },
   {
    "duration": 13,
    "start_time": "2025-04-23T17:58:39.489Z"
   },
   {
    "duration": 5,
    "start_time": "2025-04-23T17:59:14.530Z"
   },
   {
    "duration": 7,
    "start_time": "2025-04-23T17:59:37.223Z"
   },
   {
    "duration": 4,
    "start_time": "2025-04-23T17:59:49.051Z"
   },
   {
    "duration": 17,
    "start_time": "2025-04-23T18:00:49.899Z"
   },
   {
    "duration": 20,
    "start_time": "2025-04-23T18:01:06.611Z"
   },
   {
    "duration": 85,
    "start_time": "2025-04-23T18:02:38.557Z"
   },
   {
    "duration": 3,
    "start_time": "2025-04-23T18:03:11.593Z"
   },
   {
    "duration": 13,
    "start_time": "2025-04-23T18:03:11.598Z"
   },
   {
    "duration": 17,
    "start_time": "2025-04-23T18:03:11.613Z"
   },
   {
    "duration": 6,
    "start_time": "2025-04-23T18:03:11.631Z"
   },
   {
    "duration": 8,
    "start_time": "2025-04-23T18:03:11.639Z"
   },
   {
    "duration": 11,
    "start_time": "2025-04-23T18:03:11.648Z"
   },
   {
    "duration": 3,
    "start_time": "2025-04-23T18:03:11.661Z"
   },
   {
    "duration": 5,
    "start_time": "2025-04-23T18:03:11.666Z"
   },
   {
    "duration": 4,
    "start_time": "2025-04-23T18:03:11.673Z"
   },
   {
    "duration": 6,
    "start_time": "2025-04-23T18:03:11.679Z"
   },
   {
    "duration": 7,
    "start_time": "2025-04-23T18:21:37.234Z"
   },
   {
    "duration": 7,
    "start_time": "2025-04-23T18:22:57.721Z"
   },
   {
    "duration": 4,
    "start_time": "2025-04-23T18:34:53.658Z"
   },
   {
    "duration": 2817,
    "start_time": "2025-04-29T23:42:28.422Z"
   },
   {
    "duration": 20,
    "start_time": "2025-04-29T23:42:31.241Z"
   },
   {
    "duration": 18,
    "start_time": "2025-04-29T23:42:31.263Z"
   },
   {
    "duration": 14,
    "start_time": "2025-04-29T23:42:31.283Z"
   },
   {
    "duration": 8,
    "start_time": "2025-04-29T23:42:31.309Z"
   },
   {
    "duration": 7,
    "start_time": "2025-04-29T23:42:31.319Z"
   },
   {
    "duration": 4,
    "start_time": "2025-04-29T23:42:31.328Z"
   },
   {
    "duration": 4,
    "start_time": "2025-04-29T23:42:31.334Z"
   },
   {
    "duration": 4,
    "start_time": "2025-04-29T23:42:31.340Z"
   },
   {
    "duration": 5,
    "start_time": "2025-04-29T23:42:31.346Z"
   },
   {
    "duration": 6,
    "start_time": "2025-04-29T23:42:31.353Z"
   },
   {
    "duration": 280,
    "start_time": "2025-04-29T23:50:50.644Z"
   },
   {
    "duration": 476,
    "start_time": "2025-04-29T23:56:36.349Z"
   },
   {
    "duration": 61,
    "start_time": "2025-04-29T23:57:21.873Z"
   },
   {
    "duration": 3,
    "start_time": "2025-04-29T23:58:23.208Z"
   },
   {
    "duration": 14,
    "start_time": "2025-04-29T23:58:23.215Z"
   },
   {
    "duration": 17,
    "start_time": "2025-04-29T23:58:23.231Z"
   },
   {
    "duration": 6,
    "start_time": "2025-04-29T23:58:23.250Z"
   },
   {
    "duration": 9,
    "start_time": "2025-04-29T23:58:23.257Z"
   },
   {
    "duration": 6,
    "start_time": "2025-04-29T23:58:23.268Z"
   },
   {
    "duration": 21,
    "start_time": "2025-04-29T23:58:23.276Z"
   },
   {
    "duration": 13,
    "start_time": "2025-04-29T23:58:23.300Z"
   },
   {
    "duration": 7,
    "start_time": "2025-04-29T23:58:23.315Z"
   },
   {
    "duration": 6,
    "start_time": "2025-04-29T23:58:23.323Z"
   },
   {
    "duration": 6,
    "start_time": "2025-04-29T23:58:23.331Z"
   },
   {
    "duration": 145,
    "start_time": "2025-04-29T23:58:23.339Z"
   },
   {
    "duration": 3,
    "start_time": "2025-04-29T23:59:49.919Z"
   },
   {
    "duration": 4,
    "start_time": "2025-04-30T00:00:24.718Z"
   },
   {
    "duration": 17,
    "start_time": "2025-04-30T00:01:19.097Z"
   },
   {
    "duration": 7,
    "start_time": "2025-04-30T00:03:29.069Z"
   },
   {
    "duration": 58,
    "start_time": "2025-04-30T00:04:11.449Z"
   },
   {
    "duration": 42,
    "start_time": "2025-04-30T00:04:21.019Z"
   },
   {
    "duration": 48,
    "start_time": "2025-04-30T00:04:38.007Z"
   },
   {
    "duration": 14,
    "start_time": "2025-04-30T00:05:02.682Z"
   },
   {
    "duration": 7,
    "start_time": "2025-04-30T00:11:38.174Z"
   },
   {
    "duration": 17,
    "start_time": "2025-04-30T00:14:48.280Z"
   },
   {
    "duration": 6,
    "start_time": "2025-04-30T00:27:02.326Z"
   },
   {
    "duration": 14,
    "start_time": "2025-04-30T01:21:03.003Z"
   },
   {
    "duration": 14,
    "start_time": "2025-04-30T01:21:11.202Z"
   },
   {
    "duration": 17,
    "start_time": "2025-04-30T01:21:20.680Z"
   },
   {
    "duration": 7,
    "start_time": "2025-04-30T01:24:39.842Z"
   },
   {
    "duration": 9,
    "start_time": "2025-04-30T01:24:53.706Z"
   },
   {
    "duration": 10,
    "start_time": "2025-04-30T01:25:23.704Z"
   },
   {
    "duration": 124,
    "start_time": "2025-04-30T01:27:50.838Z"
   },
   {
    "duration": 222,
    "start_time": "2025-04-30T01:31:07.982Z"
   },
   {
    "duration": 78,
    "start_time": "2025-04-30T01:32:45.135Z"
   },
   {
    "duration": 51,
    "start_time": "2025-04-30T01:33:05.362Z"
   },
   {
    "duration": 39,
    "start_time": "2025-04-30T01:34:04.800Z"
   },
   {
    "duration": 208,
    "start_time": "2025-04-30T01:34:31.088Z"
   },
   {
    "duration": 228,
    "start_time": "2025-04-30T01:36:04.911Z"
   },
   {
    "duration": 3,
    "start_time": "2025-04-30T01:40:47.392Z"
   },
   {
    "duration": 46,
    "start_time": "2025-04-30T01:44:37.236Z"
   },
   {
    "duration": 52,
    "start_time": "2025-04-30T01:52:24.091Z"
   },
   {
    "duration": 46,
    "start_time": "2025-04-30T01:59:21.339Z"
   },
   {
    "duration": 46,
    "start_time": "2025-04-30T01:59:35.631Z"
   },
   {
    "duration": 3,
    "start_time": "2025-04-30T02:00:57.530Z"
   },
   {
    "duration": 47,
    "start_time": "2025-04-30T02:02:32.016Z"
   },
   {
    "duration": 2,
    "start_time": "2025-04-30T02:02:34.087Z"
   },
   {
    "duration": 4,
    "start_time": "2025-04-30T02:02:34.091Z"
   },
   {
    "duration": 0,
    "start_time": "2025-04-30T02:02:34.096Z"
   },
   {
    "duration": 0,
    "start_time": "2025-04-30T02:02:34.098Z"
   },
   {
    "duration": 7,
    "start_time": "2025-04-30T02:02:34.126Z"
   },
   {
    "duration": 6,
    "start_time": "2025-04-30T02:02:34.135Z"
   },
   {
    "duration": 4,
    "start_time": "2025-04-30T02:02:34.144Z"
   },
   {
    "duration": 6,
    "start_time": "2025-04-30T02:02:34.149Z"
   },
   {
    "duration": 4,
    "start_time": "2025-04-30T02:02:34.157Z"
   },
   {
    "duration": 7,
    "start_time": "2025-04-30T02:02:34.186Z"
   },
   {
    "duration": 6,
    "start_time": "2025-04-30T02:02:34.194Z"
   },
   {
    "duration": 5,
    "start_time": "2025-04-30T02:02:34.202Z"
   },
   {
    "duration": 7,
    "start_time": "2025-04-30T02:02:34.209Z"
   },
   {
    "duration": 9,
    "start_time": "2025-04-30T02:02:34.217Z"
   },
   {
    "duration": 7,
    "start_time": "2025-04-30T02:02:34.228Z"
   },
   {
    "duration": 220,
    "start_time": "2025-04-30T02:02:34.237Z"
   },
   {
    "duration": 50,
    "start_time": "2025-04-30T02:02:34.459Z"
   },
   {
    "duration": 5,
    "start_time": "2025-04-30T02:03:53.323Z"
   },
   {
    "duration": 47,
    "start_time": "2025-04-30T02:06:14.773Z"
   },
   {
    "duration": 48,
    "start_time": "2025-04-30T02:07:44.032Z"
   },
   {
    "duration": 3,
    "start_time": "2025-04-30T02:08:40.374Z"
   },
   {
    "duration": 5,
    "start_time": "2025-04-30T02:09:47.969Z"
   },
   {
    "duration": 3,
    "start_time": "2025-04-30T02:10:17.295Z"
   },
   {
    "duration": 223,
    "start_time": "2025-04-30T02:11:21.525Z"
   },
   {
    "duration": 244,
    "start_time": "2025-04-30T02:12:32.115Z"
   },
   {
    "duration": 252,
    "start_time": "2025-04-30T02:13:43.514Z"
   },
   {
    "duration": 235,
    "start_time": "2025-04-30T02:13:56.963Z"
   },
   {
    "duration": 2,
    "start_time": "2025-04-30T02:17:06.883Z"
   },
   {
    "duration": 4,
    "start_time": "2025-04-30T02:17:06.887Z"
   },
   {
    "duration": 0,
    "start_time": "2025-04-30T02:17:06.893Z"
   },
   {
    "duration": 0,
    "start_time": "2025-04-30T02:17:06.894Z"
   },
   {
    "duration": 0,
    "start_time": "2025-04-30T02:17:06.896Z"
   },
   {
    "duration": 0,
    "start_time": "2025-04-30T02:17:06.897Z"
   },
   {
    "duration": 0,
    "start_time": "2025-04-30T02:17:06.898Z"
   },
   {
    "duration": 0,
    "start_time": "2025-04-30T02:17:06.900Z"
   },
   {
    "duration": 0,
    "start_time": "2025-04-30T02:17:06.901Z"
   },
   {
    "duration": 0,
    "start_time": "2025-04-30T02:17:06.903Z"
   },
   {
    "duration": 0,
    "start_time": "2025-04-30T02:17:06.904Z"
   },
   {
    "duration": 0,
    "start_time": "2025-04-30T02:17:06.906Z"
   },
   {
    "duration": 0,
    "start_time": "2025-04-30T02:17:06.907Z"
   },
   {
    "duration": 0,
    "start_time": "2025-04-30T02:17:06.908Z"
   },
   {
    "duration": 0,
    "start_time": "2025-04-30T02:17:06.910Z"
   },
   {
    "duration": 0,
    "start_time": "2025-04-30T02:17:06.911Z"
   },
   {
    "duration": 0,
    "start_time": "2025-04-30T02:17:06.912Z"
   },
   {
    "duration": 14,
    "start_time": "2025-04-30T02:17:22.117Z"
   },
   {
    "duration": 11,
    "start_time": "2025-04-30T02:17:24.511Z"
   },
   {
    "duration": 3,
    "start_time": "2025-04-30T02:17:38.031Z"
   },
   {
    "duration": 13,
    "start_time": "2025-04-30T02:17:38.036Z"
   },
   {
    "duration": 19,
    "start_time": "2025-04-30T02:17:38.051Z"
   },
   {
    "duration": 9,
    "start_time": "2025-04-30T02:17:38.072Z"
   },
   {
    "duration": 8,
    "start_time": "2025-04-30T02:17:38.083Z"
   },
   {
    "duration": 7,
    "start_time": "2025-04-30T02:17:38.093Z"
   },
   {
    "duration": 5,
    "start_time": "2025-04-30T02:17:38.101Z"
   },
   {
    "duration": 5,
    "start_time": "2025-04-30T02:17:38.107Z"
   },
   {
    "duration": 6,
    "start_time": "2025-04-30T02:17:38.113Z"
   },
   {
    "duration": 11,
    "start_time": "2025-04-30T02:17:38.120Z"
   },
   {
    "duration": 10,
    "start_time": "2025-04-30T02:17:38.133Z"
   },
   {
    "duration": 7,
    "start_time": "2025-04-30T02:17:38.145Z"
   },
   {
    "duration": 38,
    "start_time": "2025-04-30T02:17:38.153Z"
   },
   {
    "duration": 8,
    "start_time": "2025-04-30T02:17:38.194Z"
   },
   {
    "duration": 8,
    "start_time": "2025-04-30T02:17:38.204Z"
   },
   {
    "duration": 205,
    "start_time": "2025-04-30T02:17:38.214Z"
   },
   {
    "duration": 265,
    "start_time": "2025-04-30T02:17:38.421Z"
   },
   {
    "duration": 13,
    "start_time": "2025-04-30T02:18:15.143Z"
   },
   {
    "duration": 8,
    "start_time": "2025-04-30T02:18:29.480Z"
   },
   {
    "duration": 19,
    "start_time": "2025-04-30T02:18:51.226Z"
   },
   {
    "duration": 3,
    "start_time": "2025-04-30T02:19:58.480Z"
   },
   {
    "duration": 3,
    "start_time": "2025-04-30T02:20:17.093Z"
   },
   {
    "duration": 5,
    "start_time": "2025-04-30T02:30:42.441Z"
   },
   {
    "duration": 12,
    "start_time": "2025-04-30T02:31:45.248Z"
   },
   {
    "duration": 9,
    "start_time": "2025-04-30T02:33:24.550Z"
   },
   {
    "duration": 7,
    "start_time": "2025-04-30T02:34:15.154Z"
   },
   {
    "duration": 8,
    "start_time": "2025-04-30T02:34:34.465Z"
   },
   {
    "duration": 267,
    "start_time": "2025-04-30T02:35:04.127Z"
   },
   {
    "duration": 429,
    "start_time": "2025-04-30T02:40:16.891Z"
   },
   {
    "duration": 128,
    "start_time": "2025-04-30T02:49:39.855Z"
   },
   {
    "duration": 47,
    "start_time": "2025-04-30T02:53:11.169Z"
   },
   {
    "duration": 41,
    "start_time": "2025-04-30T02:55:10.819Z"
   },
   {
    "duration": 56,
    "start_time": "2025-04-30T02:56:07.786Z"
   },
   {
    "duration": 117,
    "start_time": "2025-04-30T02:57:06.442Z"
   },
   {
    "duration": 2,
    "start_time": "2025-04-30T02:57:29.413Z"
   },
   {
    "duration": 13,
    "start_time": "2025-04-30T02:57:29.418Z"
   },
   {
    "duration": 17,
    "start_time": "2025-04-30T02:57:29.432Z"
   },
   {
    "duration": 7,
    "start_time": "2025-04-30T02:57:29.451Z"
   },
   {
    "duration": 7,
    "start_time": "2025-04-30T02:57:29.461Z"
   },
   {
    "duration": 6,
    "start_time": "2025-04-30T02:57:29.470Z"
   },
   {
    "duration": 5,
    "start_time": "2025-04-30T02:57:29.486Z"
   },
   {
    "duration": 5,
    "start_time": "2025-04-30T02:57:29.492Z"
   },
   {
    "duration": 4,
    "start_time": "2025-04-30T02:57:29.499Z"
   },
   {
    "duration": 6,
    "start_time": "2025-04-30T02:57:29.504Z"
   },
   {
    "duration": 6,
    "start_time": "2025-04-30T02:57:29.513Z"
   },
   {
    "duration": 6,
    "start_time": "2025-04-30T02:57:29.520Z"
   },
   {
    "duration": 6,
    "start_time": "2025-04-30T02:57:29.527Z"
   },
   {
    "duration": 52,
    "start_time": "2025-04-30T02:57:29.536Z"
   },
   {
    "duration": 7,
    "start_time": "2025-04-30T02:57:29.589Z"
   },
   {
    "duration": 193,
    "start_time": "2025-04-30T02:57:29.598Z"
   },
   {
    "duration": 247,
    "start_time": "2025-04-30T02:57:29.793Z"
   },
   {
    "duration": 11,
    "start_time": "2025-04-30T02:57:30.042Z"
   },
   {
    "duration": 8,
    "start_time": "2025-04-30T02:57:30.056Z"
   },
   {
    "duration": 24,
    "start_time": "2025-04-30T02:57:30.066Z"
   },
   {
    "duration": 329,
    "start_time": "2025-04-30T02:57:30.093Z"
   },
   {
    "duration": 54,
    "start_time": "2025-04-30T02:57:30.424Z"
   },
   {
    "duration": 0,
    "start_time": "2025-04-30T02:57:30.487Z"
   },
   {
    "duration": 39,
    "start_time": "2025-04-30T02:57:34.532Z"
   },
   {
    "duration": 43,
    "start_time": "2025-04-30T02:57:43.083Z"
   },
   {
    "duration": 10,
    "start_time": "2025-04-30T02:59:16.409Z"
   },
   {
    "duration": 9,
    "start_time": "2025-04-30T02:59:31.788Z"
   },
   {
    "duration": 52,
    "start_time": "2025-04-30T02:59:53.780Z"
   },
   {
    "duration": 44,
    "start_time": "2025-04-30T03:00:33.772Z"
   },
   {
    "duration": 53,
    "start_time": "2025-04-30T03:01:00.589Z"
   },
   {
    "duration": 3,
    "start_time": "2025-04-30T03:02:01.606Z"
   },
   {
    "duration": 6,
    "start_time": "2025-04-30T03:03:32.831Z"
   },
   {
    "duration": 6,
    "start_time": "2025-04-30T03:03:47.876Z"
   },
   {
    "duration": 18,
    "start_time": "2025-04-30T03:04:41.007Z"
   },
   {
    "duration": 7,
    "start_time": "2025-04-30T03:04:53.104Z"
   },
   {
    "duration": 290,
    "start_time": "2025-04-30T03:06:49.605Z"
   },
   {
    "duration": 267,
    "start_time": "2025-04-30T03:11:13.558Z"
   },
   {
    "duration": 181,
    "start_time": "2025-04-30T03:11:53.932Z"
   },
   {
    "duration": 2,
    "start_time": "2025-04-30T03:12:31.034Z"
   },
   {
    "duration": 42,
    "start_time": "2025-04-30T03:16:23.593Z"
   },
   {
    "duration": 9,
    "start_time": "2025-04-30T03:16:41.416Z"
   },
   {
    "duration": 3,
    "start_time": "2025-04-30T03:18:28.325Z"
   },
   {
    "duration": 6,
    "start_time": "2025-04-30T03:19:01.468Z"
   },
   {
    "duration": 45,
    "start_time": "2025-04-30T03:21:19.708Z"
   },
   {
    "duration": 6,
    "start_time": "2025-04-30T03:21:50.688Z"
   },
   {
    "duration": 14,
    "start_time": "2025-04-30T03:24:38.716Z"
   },
   {
    "duration": 14,
    "start_time": "2025-04-30T03:25:02.176Z"
   },
   {
    "duration": 106,
    "start_time": "2025-04-30T03:25:09.366Z"
   },
   {
    "duration": 4,
    "start_time": "2025-04-30T03:29:37.984Z"
   },
   {
    "duration": 3,
    "start_time": "2025-04-30T03:31:52.872Z"
   },
   {
    "duration": 49,
    "start_time": "2025-04-30T03:51:02.309Z"
   },
   {
    "duration": 44,
    "start_time": "2025-04-30T03:52:24.119Z"
   },
   {
    "duration": 214,
    "start_time": "2025-04-30T03:53:03.926Z"
   },
   {
    "duration": 129,
    "start_time": "2025-04-30T03:53:49.897Z"
   },
   {
    "duration": 135,
    "start_time": "2025-04-30T03:54:36.537Z"
   },
   {
    "duration": 128,
    "start_time": "2025-04-30T03:56:33.536Z"
   },
   {
    "duration": 138,
    "start_time": "2025-04-30T03:56:48.997Z"
   },
   {
    "duration": 3,
    "start_time": "2025-04-30T03:58:03.490Z"
   },
   {
    "duration": 14,
    "start_time": "2025-04-30T03:58:03.495Z"
   },
   {
    "duration": 16,
    "start_time": "2025-04-30T03:58:03.511Z"
   },
   {
    "duration": 7,
    "start_time": "2025-04-30T03:58:03.529Z"
   },
   {
    "duration": 7,
    "start_time": "2025-04-30T03:58:03.539Z"
   },
   {
    "duration": 6,
    "start_time": "2025-04-30T03:58:03.548Z"
   },
   {
    "duration": 8,
    "start_time": "2025-04-30T03:58:03.587Z"
   },
   {
    "duration": 5,
    "start_time": "2025-04-30T03:58:03.596Z"
   },
   {
    "duration": 4,
    "start_time": "2025-04-30T03:58:03.603Z"
   },
   {
    "duration": 6,
    "start_time": "2025-04-30T03:58:03.608Z"
   },
   {
    "duration": 6,
    "start_time": "2025-04-30T03:58:03.615Z"
   },
   {
    "duration": 5,
    "start_time": "2025-04-30T03:58:03.623Z"
   },
   {
    "duration": 7,
    "start_time": "2025-04-30T03:58:03.630Z"
   },
   {
    "duration": 51,
    "start_time": "2025-04-30T03:58:03.641Z"
   },
   {
    "duration": 10,
    "start_time": "2025-04-30T03:58:03.693Z"
   },
   {
    "duration": 213,
    "start_time": "2025-04-30T03:58:03.705Z"
   },
   {
    "duration": 244,
    "start_time": "2025-04-30T03:58:03.919Z"
   },
   {
    "duration": 10,
    "start_time": "2025-04-30T03:58:04.166Z"
   },
   {
    "duration": 17,
    "start_time": "2025-04-30T03:58:04.177Z"
   },
   {
    "duration": 8,
    "start_time": "2025-04-30T03:58:04.196Z"
   },
   {
    "duration": 350,
    "start_time": "2025-04-30T03:58:04.206Z"
   },
   {
    "duration": 18,
    "start_time": "2025-04-30T03:58:04.558Z"
   },
   {
    "duration": 306,
    "start_time": "2025-04-30T03:58:04.586Z"
   },
   {
    "duration": 215,
    "start_time": "2025-04-30T03:58:04.894Z"
   },
   {
    "duration": 6,
    "start_time": "2025-04-30T03:58:05.111Z"
   },
   {
    "duration": 129,
    "start_time": "2025-04-30T03:58:05.120Z"
   },
   {
    "duration": 4,
    "start_time": "2025-04-30T03:58:05.251Z"
   },
   {
    "duration": 431,
    "start_time": "2025-04-30T03:58:05.257Z"
   },
   {
    "duration": 9,
    "start_time": "2025-04-30T04:05:48.098Z"
   },
   {
    "duration": 17,
    "start_time": "2025-04-30T04:21:24.235Z"
   },
   {
    "duration": 7,
    "start_time": "2025-04-30T04:21:43.498Z"
   },
   {
    "duration": 18,
    "start_time": "2025-04-30T04:25:47.930Z"
   },
   {
    "duration": 8,
    "start_time": "2025-04-30T04:26:51.937Z"
   },
   {
    "duration": 8,
    "start_time": "2025-04-30T04:27:07.183Z"
   },
   {
    "duration": 4,
    "start_time": "2025-04-30T04:27:21.122Z"
   },
   {
    "duration": 10,
    "start_time": "2025-04-30T04:27:30.693Z"
   },
   {
    "duration": 16,
    "start_time": "2025-04-30T04:27:56.241Z"
   },
   {
    "duration": 19,
    "start_time": "2025-04-30T04:34:34.461Z"
   },
   {
    "duration": 18,
    "start_time": "2025-04-30T04:35:39.608Z"
   },
   {
    "duration": 18,
    "start_time": "2025-04-30T04:35:52.655Z"
   },
   {
    "duration": 20,
    "start_time": "2025-04-30T04:35:59.643Z"
   },
   {
    "duration": 23,
    "start_time": "2025-04-30T04:36:28.189Z"
   },
   {
    "duration": 11,
    "start_time": "2025-04-30T04:36:45.555Z"
   },
   {
    "duration": 168,
    "start_time": "2025-04-30T15:58:21.617Z"
   },
   {
    "duration": 18,
    "start_time": "2025-04-30T15:58:49.956Z"
   },
   {
    "duration": 2526,
    "start_time": "2025-04-30T16:01:12.082Z"
   },
   {
    "duration": 27,
    "start_time": "2025-04-30T16:01:14.610Z"
   },
   {
    "duration": 18,
    "start_time": "2025-04-30T16:01:14.639Z"
   },
   {
    "duration": 9,
    "start_time": "2025-04-30T16:01:14.659Z"
   },
   {
    "duration": 7,
    "start_time": "2025-04-30T16:01:14.669Z"
   },
   {
    "duration": 7,
    "start_time": "2025-04-30T16:01:14.678Z"
   },
   {
    "duration": 3,
    "start_time": "2025-04-30T16:01:14.687Z"
   },
   {
    "duration": 31,
    "start_time": "2025-04-30T16:01:14.692Z"
   },
   {
    "duration": 4,
    "start_time": "2025-04-30T16:01:14.726Z"
   },
   {
    "duration": 6,
    "start_time": "2025-04-30T16:01:14.733Z"
   },
   {
    "duration": 7,
    "start_time": "2025-04-30T16:01:14.740Z"
   },
   {
    "duration": 8,
    "start_time": "2025-04-30T16:01:14.750Z"
   },
   {
    "duration": 6,
    "start_time": "2025-04-30T16:01:14.759Z"
   },
   {
    "duration": 8,
    "start_time": "2025-04-30T16:01:14.767Z"
   },
   {
    "duration": 50,
    "start_time": "2025-04-30T16:01:14.776Z"
   },
   {
    "duration": 217,
    "start_time": "2025-04-30T16:01:14.827Z"
   },
   {
    "duration": 253,
    "start_time": "2025-04-30T16:01:15.046Z"
   },
   {
    "duration": 142,
    "start_time": "2025-04-30T16:01:15.302Z"
   },
   {
    "duration": 0,
    "start_time": "2025-04-30T16:01:15.446Z"
   },
   {
    "duration": 0,
    "start_time": "2025-04-30T16:01:15.449Z"
   },
   {
    "duration": 0,
    "start_time": "2025-04-30T16:01:15.450Z"
   },
   {
    "duration": 0,
    "start_time": "2025-04-30T16:01:15.452Z"
   },
   {
    "duration": 0,
    "start_time": "2025-04-30T16:01:15.453Z"
   },
   {
    "duration": 0,
    "start_time": "2025-04-30T16:01:15.454Z"
   },
   {
    "duration": 0,
    "start_time": "2025-04-30T16:01:15.455Z"
   },
   {
    "duration": 0,
    "start_time": "2025-04-30T16:01:15.456Z"
   },
   {
    "duration": 0,
    "start_time": "2025-04-30T16:01:15.458Z"
   },
   {
    "duration": 0,
    "start_time": "2025-04-30T16:01:15.459Z"
   },
   {
    "duration": 0,
    "start_time": "2025-04-30T16:01:15.461Z"
   },
   {
    "duration": 0,
    "start_time": "2025-04-30T16:01:15.462Z"
   },
   {
    "duration": 0,
    "start_time": "2025-04-30T16:01:15.463Z"
   },
   {
    "duration": 0,
    "start_time": "2025-04-30T16:01:15.465Z"
   },
   {
    "duration": 0,
    "start_time": "2025-04-30T16:01:15.467Z"
   },
   {
    "duration": 0,
    "start_time": "2025-04-30T16:01:15.468Z"
   },
   {
    "duration": 24,
    "start_time": "2025-04-30T16:03:39.017Z"
   },
   {
    "duration": 20,
    "start_time": "2025-04-30T16:04:56.586Z"
   },
   {
    "duration": 297,
    "start_time": "2025-04-30T16:06:03.939Z"
   },
   {
    "duration": 308,
    "start_time": "2025-04-30T16:06:22.693Z"
   },
   {
    "duration": 2,
    "start_time": "2025-04-30T16:09:34.208Z"
   },
   {
    "duration": 12,
    "start_time": "2025-04-30T16:09:34.231Z"
   },
   {
    "duration": 20,
    "start_time": "2025-04-30T16:09:34.245Z"
   },
   {
    "duration": 7,
    "start_time": "2025-04-30T16:09:34.267Z"
   },
   {
    "duration": 7,
    "start_time": "2025-04-30T16:09:34.276Z"
   },
   {
    "duration": 7,
    "start_time": "2025-04-30T16:09:34.285Z"
   },
   {
    "duration": 30,
    "start_time": "2025-04-30T16:09:34.293Z"
   },
   {
    "duration": 4,
    "start_time": "2025-04-30T16:09:34.325Z"
   },
   {
    "duration": 5,
    "start_time": "2025-04-30T16:09:34.331Z"
   },
   {
    "duration": 7,
    "start_time": "2025-04-30T16:09:34.338Z"
   },
   {
    "duration": 6,
    "start_time": "2025-04-30T16:09:34.348Z"
   },
   {
    "duration": 7,
    "start_time": "2025-04-30T16:09:34.356Z"
   },
   {
    "duration": 7,
    "start_time": "2025-04-30T16:09:34.364Z"
   },
   {
    "duration": 49,
    "start_time": "2025-04-30T16:09:34.372Z"
   },
   {
    "duration": 11,
    "start_time": "2025-04-30T16:09:34.423Z"
   },
   {
    "duration": 203,
    "start_time": "2025-04-30T16:09:34.436Z"
   },
   {
    "duration": 258,
    "start_time": "2025-04-30T16:09:34.641Z"
   },
   {
    "duration": 327,
    "start_time": "2025-04-30T16:09:34.900Z"
   },
   {
    "duration": 12,
    "start_time": "2025-04-30T16:09:35.229Z"
   },
   {
    "duration": 9,
    "start_time": "2025-04-30T16:09:35.242Z"
   },
   {
    "duration": 12,
    "start_time": "2025-04-30T16:09:35.254Z"
   },
   {
    "duration": 322,
    "start_time": "2025-04-30T16:09:35.268Z"
   },
   {
    "duration": 27,
    "start_time": "2025-04-30T16:09:35.592Z"
   },
   {
    "duration": 308,
    "start_time": "2025-04-30T16:09:35.621Z"
   },
   {
    "duration": 214,
    "start_time": "2025-04-30T16:09:35.931Z"
   },
   {
    "duration": 6,
    "start_time": "2025-04-30T16:09:36.148Z"
   },
   {
    "duration": 129,
    "start_time": "2025-04-30T16:09:36.156Z"
   },
   {
    "duration": 4,
    "start_time": "2025-04-30T16:09:36.288Z"
   },
   {
    "duration": 415,
    "start_time": "2025-04-30T16:09:36.296Z"
   },
   {
    "duration": 12,
    "start_time": "2025-04-30T16:09:36.713Z"
   },
   {
    "duration": 7,
    "start_time": "2025-04-30T16:09:36.727Z"
   },
   {
    "duration": 7,
    "start_time": "2025-04-30T16:09:36.736Z"
   },
   {
    "duration": 15,
    "start_time": "2025-04-30T16:09:36.745Z"
   },
   {
    "duration": 11,
    "start_time": "2025-04-30T16:09:36.762Z"
   }
  ],
  "kernelspec": {
   "display_name": "Python 3 (ipykernel)",
   "language": "python",
   "name": "python3"
  },
  "language_info": {
   "codemirror_mode": {
    "name": "ipython",
    "version": 3
   },
   "file_extension": ".py",
   "mimetype": "text/x-python",
   "name": "python",
   "nbconvert_exporter": "python",
   "pygments_lexer": "ipython3",
   "version": "3.12.7"
  },
  "toc": {
   "base_numbering": 1,
   "nav_menu": {},
   "number_sections": true,
   "sideBar": true,
   "skip_h1_title": true,
   "title_cell": "Table of Contents",
   "title_sidebar": "Contents",
   "toc_cell": false,
   "toc_position": {
    "height": "calc(100% - 180px)",
    "left": "10px",
    "top": "150px",
    "width": "263.8px"
   },
   "toc_section_display": true,
   "toc_window_display": true
  }
 },
 "nbformat": 4,
 "nbformat_minor": 4
}
